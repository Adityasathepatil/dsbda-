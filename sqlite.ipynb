{
 "cells": [
  {
   "cell_type": "code",
   "execution_count": 1,
   "id": "38c11c28",
   "metadata": {},
   "outputs": [],
   "source": [
    "import sqlite3"
   ]
  },
  {
   "cell_type": "code",
   "execution_count": 2,
   "id": "a86d9121",
   "metadata": {},
   "outputs": [],
   "source": [
    "db=sqlite3.connect(\"company_database1.db\")"
   ]
  },
  {
   "cell_type": "code",
   "execution_count": 3,
   "id": "37d3c1e5",
   "metadata": {},
   "outputs": [],
   "source": [
    "c=db.cursor()"
   ]
  },
  {
   "cell_type": "code",
   "execution_count": 4,
   "id": "0de5c9be",
   "metadata": {},
   "outputs": [
    {
     "data": {
      "text/plain": [
       "<sqlite3.Cursor at 0x14c27d2fe40>"
      ]
     },
     "execution_count": 4,
     "metadata": {},
     "output_type": "execute_result"
    }
   ],
   "source": [
    "c.execute('create table company1(id int,name text, age int,addr text,salary real)')"
   ]
  },
  {
   "cell_type": "code",
   "execution_count": 5,
   "id": "f4c4f94c",
   "metadata": {},
   "outputs": [
    {
     "data": {
      "text/plain": [
       "<sqlite3.Cursor at 0x14c27d2fe40>"
      ]
     },
     "execution_count": 5,
     "metadata": {},
     "output_type": "execute_result"
    }
   ],
   "source": [
    "c.execute(\"insert into company1 values(1,'varsha',40,'gv7',90000)\")"
   ]
  },
  {
   "cell_type": "code",
   "execution_count": 6,
   "id": "86e56643",
   "metadata": {},
   "outputs": [
    {
     "data": {
      "text/plain": [
       "<sqlite3.Cursor at 0x14c27d2fe40>"
      ]
     },
     "execution_count": 6,
     "metadata": {},
     "output_type": "execute_result"
    }
   ],
   "source": [
    "c.execute(\"insert into company1 values(2,'rohan',39,'f32',999999)\")"
   ]
  },
  {
   "cell_type": "code",
   "execution_count": 8,
   "id": "2709d33a",
   "metadata": {},
   "outputs": [
    {
     "data": {
      "text/plain": [
       "<sqlite3.Cursor at 0x14c27d2fe40>"
      ]
     },
     "execution_count": 8,
     "metadata": {},
     "output_type": "execute_result"
    }
   ],
   "source": [
    "c.execute(\"insert into company1 values(2,'rohan',39,'f32',999999)\")\n",
    "c.execute(\"insert into company1 values(3,'Mohan',32,'fd312',99937999)\")\n",
    "c.execute(\"insert into company1 values(4,'Tohan',19,'sda32',99994399)\")"
   ]
  },
  {
   "cell_type": "code",
   "execution_count": 9,
   "id": "ed128743",
   "metadata": {},
   "outputs": [],
   "source": [
    "data=c.execute('select * from company1')"
   ]
  },
  {
   "cell_type": "code",
   "execution_count": 10,
   "id": "92861c12",
   "metadata": {},
   "outputs": [
    {
     "name": "stdout",
     "output_type": "stream",
     "text": [
      "(1, 'varsha', 40, 'gv7', 90000.0)\n",
      "(2, 'rohan', 39, 'f32', 999999.0)\n",
      "(2, 'rohan', 39, 'f32', 999999.0)\n",
      "(2, 'rohan', 39, 'f32', 999999.0)\n",
      "(2, 'rohan', 39, 'f32', 999999.0)\n",
      "(2, 'rohan', 39, 'f32', 999999.0)\n",
      "(3, 'Mohan', 32, 'fd312', 99937999.0)\n",
      "(4, 'Tohan', 19, 'sda32', 99994399.0)\n"
     ]
    }
   ],
   "source": [
    "for i in data:\n",
    "    print(i)"
   ]
  },
  {
   "cell_type": "code",
   "execution_count": 12,
   "id": "55ad2e80",
   "metadata": {},
   "outputs": [
    {
     "name": "stdout",
     "output_type": "stream",
     "text": [
      "(2, 'rohan', 39, 'f32', 999999.0)\n",
      "(2, 'rohan', 39, 'f32', 999999.0)\n",
      "(2, 'rohan', 39, 'f32', 999999.0)\n",
      "(2, 'rohan', 39, 'f32', 999999.0)\n",
      "(2, 'rohan', 39, 'f32', 999999.0)\n",
      "(3, 'Mohan', 32, 'fd312', 99937999.0)\n",
      "(4, 'Tohan', 19, 'sda32', 99994399.0)\n"
     ]
    }
   ],
   "source": [
    "data=db.execute('select  * from company1 where salary >90000')\n",
    "for i in data:\n",
    "    print(i)"
   ]
  },
  {
   "cell_type": "code",
   "execution_count": 13,
   "id": "1c7d85ce",
   "metadata": {},
   "outputs": [],
   "source": [
    "data=db.execute(\"select  name from company1 where addr='pune'\")\n",
    "for i in data:\n",
    "    print(i)"
   ]
  },
  {
   "cell_type": "code",
   "execution_count": null,
   "id": "c6ccbaca",
   "metadata": {},
   "outputs": [],
   "source": []
  }
 ],
 "metadata": {
  "kernelspec": {
   "display_name": "Python 3 (ipykernel)",
   "language": "python",
   "name": "python3"
  },
  "language_info": {
   "codemirror_mode": {
    "name": "ipython",
    "version": 3
   },
   "file_extension": ".py",
   "mimetype": "text/x-python",
   "name": "python",
   "nbconvert_exporter": "python",
   "pygments_lexer": "ipython3",
   "version": "3.10.4"
  }
 },
 "nbformat": 4,
 "nbformat_minor": 5
}
